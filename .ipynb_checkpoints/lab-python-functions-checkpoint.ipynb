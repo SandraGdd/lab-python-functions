{
 "cells": [
  {
   "cell_type": "markdown",
   "id": "25d7736c-ba17-4aff-b6bb-66eba20fbf4e",
   "metadata": {},
   "source": [
    "# Lab | Functions"
   ]
  },
  {
   "cell_type": "markdown",
   "id": "9802fa48-fe7b-4fea-a00f-f8bd6d8dc09d",
   "metadata": {},
   "source": [
    "Lab | Functions\n",
    "Exercise: Managing Customer Orders with Functions\n",
    "In the previous exercise, you improved the code for managing customer orders by using loops and flow control. Now, let's take it a step further and refactor the code by introducing functions.\n",
    "\n",
    "Follow the steps below to complete the exercise:\n",
    "\n",
    "1. Define a function named initialize_inventory that takes products as a parameter. Inside the function, implement the code for initializing the inventory dictionary using a loop and user input.\n",
    "\n",
    "2. Define a function named get_customer_orders that takes no parameters. Inside the function, implement the code for prompting the user to enter the product names using a loop. The function should return the customer_orders set.\n",
    "\n",
    "3. Define a function named update_inventory that takes customer_orders and inventory as parameters. Inside the function, implement the code for updating the inventory dictionary based on the customer orders.\n",
    "\n",
    "4. Define a function named calculate_order_statistics that takes customer_orders and products as parameters. Inside the function, implement the code for calculating the order statistics (total products ordered, and percentage of unique products ordered). The function should return these values.\n",
    "\n",
    "5. Define a function named print_order_statistics that takes order_statistics as a parameter. Inside the function, implement the code for printing the order statistics.\n",
    "\n",
    "6. Define a function named print_updated_inventory that takes inventory as a parameter. Inside the function, implement the code for printing the updated inventory.\n",
    "\n",
    "7. Call the functions in the appropriate sequence to execute the program and manage customer orders.\n",
    "\n",
    "Hints for functions:\n",
    "\n",
    "Consider the input parameters required for each function and their return values.\n",
    "Utilize function parameters and return values to transfer data between functions.\n",
    "Test your functions individually to ensure they work correctly."
   ]
  },
  {
   "cell_type": "code",
   "execution_count": 79,
   "id": "379d2624-42cf-4a65-9fdf-bafc963e0cfa",
   "metadata": {},
   "outputs": [
    {
     "name": "stdin",
     "output_type": "stream",
     "text": [
      "Please enter the inventory of t-shirts in inventory:  4\n",
      "Please enter the inventory of mugs in inventory:  6\n",
      "Please enter the inventory of hats in inventory:  2\n",
      "Please enter the inventory of books in inventory:  3\n",
      "Please enter the inventory of keychains in inventory:  7\n"
     ]
    },
    {
     "name": "stdout",
     "output_type": "stream",
     "text": [
      "{'t-shirt': 4, 'mug': 6, 'hat': 2, 'book': 3, 'keychain': 7}\n"
     ]
    }
   ],
   "source": [
    "products  = [\"t-shirt\", \"mug\", \"hat\", \"book\", \"keychain\"]\n",
    "inventory = {}\n",
    "for product in products:\n",
    "    quantity = int(input(f\"Please enter the inventory of {product}s in inventory: \"))\n",
    "    inventory[product] = quantity\n",
    "print(inventory)"
   ]
  },
  {
   "cell_type": "code",
   "execution_count": 80,
   "id": "b7714064-ce3f-42c3-a49e-b266e1bdcf97",
   "metadata": {},
   "outputs": [
    {
     "name": "stdin",
     "output_type": "stream",
     "text": [
      "Please enter the inventory of t-shirts in inventory:  book\n"
     ]
    },
    {
     "ename": "ValueError",
     "evalue": "invalid literal for int() with base 10: 'book'",
     "output_type": "error",
     "traceback": [
      "\u001b[0;31m---------------------------------------------------------------------------\u001b[0m",
      "\u001b[0;31mValueError\u001b[0m                                Traceback (most recent call last)",
      "Cell \u001b[0;32mIn[80], line 7\u001b[0m\n\u001b[1;32m      5\u001b[0m         inventory[product] \u001b[38;5;241m=\u001b[39m quantity\n\u001b[1;32m      6\u001b[0m     \u001b[38;5;28;01mreturn\u001b[39;00m inventory\n\u001b[0;32m----> 7\u001b[0m inventory \u001b[38;5;241m=\u001b[39m initialize_inventory(products) \n\u001b[1;32m      8\u001b[0m \u001b[38;5;28mprint\u001b[39m(\u001b[38;5;124mf\u001b[39m\u001b[38;5;124m\"\u001b[39m\u001b[38;5;124mThis is the initialize inventory:\u001b[39m\u001b[38;5;132;01m{\u001b[39;00minventory\u001b[38;5;132;01m}\u001b[39;00m\u001b[38;5;124m\"\u001b[39m)\n",
      "Cell \u001b[0;32mIn[80], line 4\u001b[0m, in \u001b[0;36minitialize_inventory\u001b[0;34m(products)\u001b[0m\n\u001b[1;32m      2\u001b[0m \u001b[38;5;28;01mdef\u001b[39;00m \u001b[38;5;21minitialize_inventory\u001b[39m(products):\n\u001b[1;32m      3\u001b[0m     \u001b[38;5;28;01mfor\u001b[39;00m product \u001b[38;5;129;01min\u001b[39;00m products:\n\u001b[0;32m----> 4\u001b[0m         quantity \u001b[38;5;241m=\u001b[39m \u001b[38;5;28mint\u001b[39m(\u001b[38;5;28minput\u001b[39m(\u001b[38;5;124mf\u001b[39m\u001b[38;5;124m\"\u001b[39m\u001b[38;5;124mPlease enter the inventory of \u001b[39m\u001b[38;5;132;01m{\u001b[39;00mproduct\u001b[38;5;132;01m}\u001b[39;00m\u001b[38;5;124ms in inventory: \u001b[39m\u001b[38;5;124m\"\u001b[39m))\n\u001b[1;32m      5\u001b[0m         inventory[product] \u001b[38;5;241m=\u001b[39m quantity\n\u001b[1;32m      6\u001b[0m     \u001b[38;5;28;01mreturn\u001b[39;00m inventory\n",
      "\u001b[0;31mValueError\u001b[0m: invalid literal for int() with base 10: 'book'"
     ]
    }
   ],
   "source": [
    "# 1. define function i_i\n",
    "def initialize_inventory(products):\n",
    "    for product in products:\n",
    "        quantity = int(input(f\"Please enter the inventory of {product}s in inventory: \"))\n",
    "        inventory[product] = quantity\n",
    "    return inventory\n",
    "inventory = initialize_inventory(products) \n",
    "print(f\"This is the initialize inventory:{inventory}\")"
   ]
  },
  {
   "cell_type": "code",
   "execution_count": 90,
   "id": "2cca853a-f0d0-44b1-8dbe-e1967ad0bea1",
   "metadata": {},
   "outputs": [
    {
     "name": "stdin",
     "output_type": "stream",
     "text": [
      "Please enter product you want to order:  book\n"
     ]
    }
   ],
   "source": [
    "#  2. define function g_c\n",
    "def get_customer_orders():\n",
    "    customer_orders = set()\n",
    "    order = input(\"Please enter product you want to order: \")\n",
    "    customer_orders.add(order)\n",
    "    return customer_orders\n",
    "customer_orders = get_customer_orders()"
   ]
  },
  {
   "cell_type": "code",
   "execution_count": 92,
   "id": "53476e91-93b5-424c-b390-8b1405c0a474",
   "metadata": {},
   "outputs": [],
   "source": [
    "# 3. define function co_p\n",
    "def update_inventory (customer_orders, inventory):\n",
    "    for p in customer_orders:\n",
    "        if p in inventory:\n",
    "            inventory[p] = inventory[p] -1\n",
    "    return inventory\n",
    "inventory = update_inventory(customer_orders, inventory)"
   ]
  },
  {
   "cell_type": "code",
   "execution_count": 94,
   "id": "89756397-157c-4b6c-8b11-bf84bca0457d",
   "metadata": {},
   "outputs": [],
   "source": [
    "# 4. Define a function named calculate_order_statistics that takes customer_orders and products as parameters. Inside the function, implement the code for calculating the order statistics (total products ordered, and percentage of unique products ordered). The function should return these values.\n",
    "\n",
    "def calculate_order_statistics(customer_orders, products):\n",
    "    total_products_ordered = len(customer_orders)\n",
    "    percentage_ordered = (total_products_ordered / len(products)) * 100\n",
    "    return total_products_ordered, percentage_ordered\n",
    "\n"
   ]
  },
  {
   "cell_type": "code",
   "execution_count": 96,
   "id": "5d767338-61ca-45f1-99d1-179695e34f4e",
   "metadata": {},
   "outputs": [],
   "source": [
    "order_statistics = calculate_order_statistics(customer_orders, products)"
   ]
  },
  {
   "cell_type": "code",
   "execution_count": 98,
   "id": "316b6532-53ff-45fd-b230-140fbb7b627f",
   "metadata": {},
   "outputs": [
    {
     "data": {
      "text/plain": [
       "(1, 20.0)"
      ]
     },
     "execution_count": 98,
     "metadata": {},
     "output_type": "execute_result"
    }
   ],
   "source": [
    "order_statistics"
   ]
  },
  {
   "cell_type": "code",
   "execution_count": 100,
   "id": "bdb31d07-a8bb-4533-832b-f87188d1cd24",
   "metadata": {},
   "outputs": [],
   "source": [
    "# 5. Define Define a function named print_order_statistics that takes order_statistics as a parameter. Inside the function, implement the code for printing the order statistics.\n",
    "\n",
    "def print_order_statistics(order_statistics):\n",
    "    print(order_statistics)"
   ]
  },
  {
   "cell_type": "code",
   "execution_count": 102,
   "id": "f4c4a1df-363d-4ffc-8488-a7b5ff8878e6",
   "metadata": {},
   "outputs": [],
   "source": [
    "printed = print_order_statistics"
   ]
  },
  {
   "cell_type": "code",
   "execution_count": 104,
   "id": "83b4e56a-e489-409a-9d3f-e7e3600ac67b",
   "metadata": {},
   "outputs": [],
   "source": [
    "def print_order_statistics(order_statistics):\n",
    "    #total_products_ordered, percentage_ordered = order_statistics\n",
    "    print(\"Order Statistics:\")\n",
    "    print(f\"Total Products Ordered: {total_products_ordered}\")\n",
    "    print(f\"Percentage of Products Ordered: {percentage_ordered:.2f}%\")\n"
   ]
  },
  {
   "cell_type": "code",
   "execution_count": 108,
   "id": "6dd07b19-f540-4e18-ab83-4502984413a9",
   "metadata": {},
   "outputs": [],
   "source": [
    "\"\"\"6. Define a function named print_updated_inventory that takes inventory as a parameter. \n",
    "Inside the function, implement the code for printing the updated inventory.\"\"\"\n",
    "\n",
    "def print_updated_inventory(inventory):\n",
    "    print(f\"This is the updated inventory: {inventory}\")\n"
   ]
  },
  {
   "cell_type": "code",
   "execution_count": 110,
   "id": "7d3f52f6-f0d4-4fe0-a58d-1fd6f9259044",
   "metadata": {},
   "outputs": [
    {
     "name": "stdout",
     "output_type": "stream",
     "text": [
      "This is the updated inventory: {'t-shirt': 4, 'mug': 6, 'hat': 2, 'book': 2, 'keychain': 7}\n"
     ]
    }
   ],
   "source": [
    "print_updated_inventory(inventory)"
   ]
  },
  {
   "cell_type": "code",
   "execution_count": 112,
   "id": "74402256-5c3a-4c49-8142-786a56951978",
   "metadata": {},
   "outputs": [
    {
     "name": "stdin",
     "output_type": "stream",
     "text": [
      "Please enter the inventory of t-shirts in inventory:  5\n",
      "Please enter the inventory of mugs in inventory:  4\n",
      "Please enter the inventory of hats in inventory:  33\n",
      "Please enter the inventory of books in inventory:  2\n",
      "Please enter the inventory of keychains in inventory:  2\n"
     ]
    },
    {
     "name": "stdout",
     "output_type": "stream",
     "text": [
      "This is the initial inventory: {'t-shirt': 5, 'mug': 4, 'hat': 33, 'book': 2, 'keychain': 2}\n"
     ]
    }
   ],
   "source": [
    "#7. Call the functions in the appropriate sequence to execute the program and manage customer orders.\n",
    "\n",
    "initial_inventory = initialize_inventory(products)\n",
    "print(f\"This is the initial inventory: {initial_inventory}\")"
   ]
  },
  {
   "cell_type": "code",
   "execution_count": 114,
   "id": "adc8a1c8-71d9-4560-b8fa-88f349b8beb5",
   "metadata": {},
   "outputs": [
    {
     "name": "stdin",
     "output_type": "stream",
     "text": [
      "Please enter product you want to order:  book\n"
     ]
    },
    {
     "name": "stdout",
     "output_type": "stream",
     "text": [
      "This is your order: {'book'}\n"
     ]
    }
   ],
   "source": [
    "order = get_customer_orders()\n",
    "print(f\"This is your order: {order}\")"
   ]
  },
  {
   "cell_type": "code",
   "execution_count": 116,
   "id": "6c0b8341-dcc7-4d9a-b1f9-fd2f8894401f",
   "metadata": {},
   "outputs": [],
   "source": [
    "updated_inventory = update_inventory(customer_orders, inventory)"
   ]
  },
  {
   "cell_type": "code",
   "execution_count": 118,
   "id": "1272ad2b-3537-4c7e-a5e8-bea727cbbe81",
   "metadata": {},
   "outputs": [
    {
     "data": {
      "text/plain": [
       "(1, 20.0)"
      ]
     },
     "execution_count": 118,
     "metadata": {},
     "output_type": "execute_result"
    }
   ],
   "source": [
    "calculate_order_statistics(customer_orders, products)"
   ]
  },
  {
   "cell_type": "code",
   "execution_count": 120,
   "id": "1a314dda-a8f7-49c6-b917-751163d7c1ab",
   "metadata": {},
   "outputs": [
    {
     "name": "stdout",
     "output_type": "stream",
     "text": [
      "This is the updated inventory: {'t-shirt': 5, 'mug': 4, 'hat': 33, 'book': 1, 'keychain': 2}\n"
     ]
    }
   ],
   "source": [
    "print_updated_inventory(inventory)"
   ]
  },
  {
   "cell_type": "code",
   "execution_count": 122,
   "id": "5fcf4f41-c81f-4f47-9095-7aa8b43f70f2",
   "metadata": {},
   "outputs": [
    {
     "name": "stdout",
     "output_type": "stream",
     "text": [
      "Thank you for your order!\n"
     ]
    }
   ],
   "source": [
    "print(\"Thank you for your order!\")"
   ]
  },
  {
   "cell_type": "code",
   "execution_count": null,
   "id": "9e76cae0-018e-4560-8d89-58adf4ae7522",
   "metadata": {},
   "outputs": [],
   "source": []
  }
 ],
 "metadata": {
  "kernelspec": {
   "display_name": "Python 3 (ipykernel)",
   "language": "python",
   "name": "python3"
  },
  "language_info": {
   "codemirror_mode": {
    "name": "ipython",
    "version": 3
   },
   "file_extension": ".py",
   "mimetype": "text/x-python",
   "name": "python",
   "nbconvert_exporter": "python",
   "pygments_lexer": "ipython3",
   "version": "3.12.4"
  }
 },
 "nbformat": 4,
 "nbformat_minor": 5
}
